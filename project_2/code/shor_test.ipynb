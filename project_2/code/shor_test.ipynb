{
 "cells": [
  {
   "cell_type": "code",
   "execution_count": null,
   "id": "213339ec",
   "metadata": {},
   "outputs": [],
   "source": [
    "import sys\n",
    "\n",
    "sys.path.insert(0, \"../../src/python\")\n",
    "from shor import classic_shor, get_odd_compound, is_prime\n",
    "\n",
    "n = get_odd_compound(100, 1000)\n",
    "print(f\"{n} is prime: {is_prime(n)}\")\n",
    "factor1, factor2 = classic_shor(n)\n",
    "\n",
    "print(f\"Factorization of {n} = {factor1} * {factor2}\")\n"
   ]
  }
 ],
 "metadata": {
  "language_info": {
   "name": "python"
  }
 },
 "nbformat": 4,
 "nbformat_minor": 5
}
