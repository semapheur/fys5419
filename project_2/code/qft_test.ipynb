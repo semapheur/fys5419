{
 "cells": [
  {
   "cell_type": "markdown",
   "id": "86c3ec6f",
   "metadata": {},
   "source": [
    "##### Test QFT implementation"
   ]
  },
  {
   "cell_type": "code",
   "execution_count": 1,
   "id": "e8371203",
   "metadata": {},
   "outputs": [
    {
     "name": "stdout",
     "output_type": "stream",
     "text": [
      "Valid QFT state: False\n",
      "Valid QFT gate: True\n"
     ]
    }
   ],
   "source": [
    "import sys\n",
    "\n",
    "import numpy as np\n",
    "\n",
    "sys.path.insert(0, \"../../src/python\")\n",
    "from gate import fourier_transform\n",
    "from qubit import NQubitState, random_qubit_state, basis_state\n",
    "from fourier import qft_matrix\n",
    "\n",
    "n_qubits = 3\n",
    "qft = qft_matrix(n_qubits)  # QFT matrix for testing\n",
    "\n",
    "# State vector\n",
    "state = random_qubit_state(2**n_qubits)\n",
    "\n",
    "# Apply Fourier transform\n",
    "qubit = NQubitState(state)\n",
    "qubit.fourier_transform()\n",
    "\n",
    "# Check if the transformed state is valid\n",
    "test = qft @ state\n",
    "print(f\"Valid QFT state: {np.all(np.isclose(test, qubit.state))}\")\n",
    "\n",
    "# Check if the Fourier gate is valid\n",
    "qft_gate = fourier_transform(n_qubits)\n",
    "print(f\"Valid QFT gate: {np.all(np.isclose(qft_gate, qft))}\")"
   ]
  },
  {
   "cell_type": "markdown",
   "id": "e0ceee6d",
   "metadata": {},
   "source": [
    "#### Test IQFT implementation"
   ]
  },
  {
   "cell_type": "code",
   "execution_count": 2,
   "id": "28ce1102",
   "metadata": {},
   "outputs": [
    {
     "name": "stdout",
     "output_type": "stream",
     "text": [
      "Valid IQFT state: True\n",
      "Valid IQFT gate: True\n"
     ]
    }
   ],
   "source": [
    "import sys\n",
    "\n",
    "import numpy as np\n",
    "\n",
    "sys.path.insert(0, \"../../src/python\")\n",
    "from gate import fourier_transform, inverse_fourier_transform\n",
    "from qubit import NQubitState, random_qubit_state\n",
    "from fourier import qft_matrix\n",
    "\n",
    "n_qubits = 3\n",
    "iqft = qft_matrix(n_qubits, inverse=True)  # QFT matrix for testing\n",
    "\n",
    "# State vector\n",
    "state = random_qubit_state(2**n_qubits)\n",
    "\n",
    "# Apply Fourier transform\n",
    "qubit = NQubitState(state)\n",
    "qubit.fourier_transform(inverse=True)\n",
    "\n",
    "## Check if the transformed state is valid\n",
    "test = iqft @ state\n",
    "print(f\"Valid IQFT state: {np.all(np.isclose(test, qubit.state))}\")\n",
    "\n",
    "# Check if the Fourier gate is valid\n",
    "iqft_gate = fourier_transform(n_qubits, inverse=True)\n",
    "# iqft_gate = inverse_fourier_transform(n_qubits)\n",
    "print(f\"Valid IQFT gate: {np.all(np.isclose(iqft_gate, iqft))}\")\n"
   ]
  },
  {
   "cell_type": "markdown",
   "id": "81d09912",
   "metadata": {},
   "source": [
    "#### QFT matrix"
   ]
  },
  {
   "cell_type": "code",
   "execution_count": null,
   "id": "e6c9f364",
   "metadata": {},
   "outputs": [
    {
     "data": {
      "text/latex": [
       "$$\\left[\\begin{matrix}\\frac{\\sqrt{2}}{4} & \\frac{\\sqrt{2}}{4} & \\frac{\\sqrt{2}}{4} & \\frac{\\sqrt{2}}{4} & \\frac{\\sqrt{2}}{4} & \\frac{\\sqrt{2}}{4} & \\frac{\\sqrt{2}}{4} & \\frac{\\sqrt{2}}{4}\\\\\\frac{\\sqrt{2}}{4} & \\frac{\\sqrt{2} e^{\\frac{i \\pi}{4}}}{4} & \\frac{\\sqrt{2} i}{4} & \\frac{\\sqrt{2} e^{\\frac{3 i \\pi}{4}}}{4} & - \\frac{\\sqrt{2}}{4} & \\frac{\\sqrt{2} e^{- \\frac{3 i \\pi}{4}}}{4} & - \\frac{\\sqrt{2} i}{4} & \\frac{\\sqrt{2} e^{- \\frac{i \\pi}{4}}}{4}\\\\\\frac{\\sqrt{2}}{4} & \\frac{\\sqrt{2} i}{4} & - \\frac{\\sqrt{2}}{4} & - \\frac{\\sqrt{2} i}{4} & \\frac{\\sqrt{2}}{4} & \\frac{\\sqrt{2} i}{4} & - \\frac{\\sqrt{2}}{4} & - \\frac{\\sqrt{2} i}{4}\\\\\\frac{\\sqrt{2}}{4} & \\frac{\\sqrt{2} e^{\\frac{3 i \\pi}{4}}}{4} & - \\frac{\\sqrt{2} i}{4} & \\frac{\\sqrt{2} e^{\\frac{i \\pi}{4}}}{4} & - \\frac{\\sqrt{2}}{4} & \\frac{\\sqrt{2} e^{- \\frac{i \\pi}{4}}}{4} & \\frac{\\sqrt{2} i}{4} & \\frac{\\sqrt{2} e^{- \\frac{3 i \\pi}{4}}}{4}\\\\\\frac{\\sqrt{2}}{4} & - \\frac{\\sqrt{2}}{4} & \\frac{\\sqrt{2}}{4} & - \\frac{\\sqrt{2}}{4} & \\frac{\\sqrt{2}}{4} & - \\frac{\\sqrt{2}}{4} & \\frac{\\sqrt{2}}{4} & - \\frac{\\sqrt{2}}{4}\\\\\\frac{\\sqrt{2}}{4} & \\frac{\\sqrt{2} e^{- \\frac{3 i \\pi}{4}}}{4} & \\frac{\\sqrt{2} i}{4} & \\frac{\\sqrt{2} e^{- \\frac{i \\pi}{4}}}{4} & - \\frac{\\sqrt{2}}{4} & \\frac{\\sqrt{2} e^{\\frac{i \\pi}{4}}}{4} & - \\frac{\\sqrt{2} i}{4} & \\frac{\\sqrt{2} e^{\\frac{3 i \\pi}{4}}}{4}\\\\\\frac{\\sqrt{2}}{4} & - \\frac{\\sqrt{2} i}{4} & - \\frac{\\sqrt{2}}{4} & \\frac{\\sqrt{2} i}{4} & \\frac{\\sqrt{2}}{4} & - \\frac{\\sqrt{2} i}{4} & - \\frac{\\sqrt{2}}{4} & \\frac{\\sqrt{2} i}{4}\\\\\\frac{\\sqrt{2}}{4} & \\frac{\\sqrt{2} e^{- \\frac{i \\pi}{4}}}{4} & - \\frac{\\sqrt{2} i}{4} & \\frac{\\sqrt{2} e^{- \\frac{3 i \\pi}{4}}}{4} & - \\frac{\\sqrt{2}}{4} & \\frac{\\sqrt{2} e^{\\frac{3 i \\pi}{4}}}{4} & \\frac{\\sqrt{2} i}{4} & \\frac{\\sqrt{2} e^{\\frac{i \\pi}{4}}}{4}\\end{matrix}\\right]$$"
      ],
      "text/plain": [
       "<IPython.core.display.Latex object>"
      ]
     },
     "metadata": {},
     "output_type": "display_data"
    }
   ],
   "source": [
    "from utils import quantum_fourier_matrix\n",
    "\n",
    "from IPython.display import Latex\n",
    "import sympy as sp\n",
    "\n",
    "\n",
    "def print_latex(string: str) -> None:\n",
    "  display(Latex(rf\"$${string}$$\"))\n",
    "\n",
    "\n",
    "test = quantum_fourier_matrix(3)\n",
    "\n",
    "print_latex(sp.latex(test))"
   ]
  }
 ],
 "metadata": {
  "kernelspec": {
   "display_name": ".venv",
   "language": "python",
   "name": "python3"
  },
  "language_info": {
   "codemirror_mode": {
    "name": "ipython",
    "version": 3
   },
   "file_extension": ".py",
   "mimetype": "text/x-python",
   "name": "python",
   "nbconvert_exporter": "python",
   "pygments_lexer": "ipython3",
   "version": "3.13.2"
  }
 },
 "nbformat": 4,
 "nbformat_minor": 5
}
