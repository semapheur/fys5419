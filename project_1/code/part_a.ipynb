{
 "cells": [
  {
   "cell_type": "markdown",
   "metadata": {},
   "source": [
    "#### Part a)"
   ]
  },
  {
   "cell_type": "markdown",
   "metadata": {},
   "source": [
    "##### One-qubit basis"
   ]
  },
  {
   "cell_type": "code",
   "execution_count": null,
   "metadata": {},
   "outputs": [],
   "source": [
    "import numpy as np\n",
    "\n",
    "\n",
    "def create_qubit(theta: float, phi: float) -> np.ndarray:\n",
    "  return np.array(\n",
    "    [np.cos(theta / 2), np.exp(1j * phi) * np.sin(theta / 2)], dtype=np.complex128\n",
    "  )\n",
    "\n",
    "\n",
    "def apply_x_gate(qubit: np.ndarray) -> np.ndarray:\n",
    "  x_gate = np.array([[0, 1], [1, 0]], dtype=np.complex128)\n",
    "  return qubit @ x_gate\n",
    "\n",
    "\n",
    "def apply_y_gate(qubit: np.ndarray) -> np.ndarray:\n",
    "  x_gate = np.array([[0, -1j], [1j, 0]], dtype=np.complex128)\n",
    "  return qubit @ x_gate\n",
    "\n",
    "\n",
    "def apply_z_gate(qubit: np.ndarray) -> np.ndarray:\n",
    "  y_gate = np.array([[1, 0], [0, -1]], dtype=np.complex128)\n",
    "  return qubit @ y_gate\n",
    "\n",
    "\n",
    "def hadamard_gate(qubit: np.ndarray) -> np.ndarray:\n",
    "  h = np.array([[1, 1], [1, -1]], dtype=np.complex128) / np.sqrt(2)\n",
    "  return qubit @ h\n",
    "\n",
    "\n",
    "def apply_s_gate(qubit: np.ndarray) -> np.ndarray:\n",
    "  s_gate = np.array([[1.0, 0.0], [0.0, 1.0j]], dtype=np.complex128)\n",
    "  return qubit @ s_gate\n",
    "\n",
    "\n",
    "# Example\n",
    "qubit = create_qubit(theta=np.pi / 2, phi=0)  # |+> state: [0.70710678, 0.70710678]\n",
    "qubit_h = apply_s_gate(qubit)  # Returns |i> state: [0.70710678, 0.70710678j]\n",
    "print(qubit_h)"
   ]
  },
  {
   "cell_type": "code",
   "execution_count": null,
   "metadata": {},
   "outputs": [
    {
     "name": "stdout",
     "output_type": "stream",
     "text": [
      "Initial state:\n",
      "Own implementation: |ψ⟩ = (0.92+0.00j)|0⟩ + (0.27+0.27j)|1⟩, Bloch angles: θ=45.00, φ=45.00\n",
      "Qiskit implementation: |ψ⟩ = [0.92387953+0.j        ,0.27059805+0.27059805j]\n",
      "\n",
      "State after Pauli X gate:\n",
      "Own implementation: |ψ⟩ = (0.27+0.27j)|0⟩ + (0.92+0.00j)|1⟩, Bloch angles: θ=135.00, φ=315.00\n",
      "Qiskit implementation: |ψ⟩ = [0.27059805+0.27059805j,0.92387953+0.j        ]  \n",
      "\n",
      "State after Pauli Y gate:\n",
      "Own implementation: |ψ⟩ = (0.27-0.27j)|0⟩ + (0.00+0.92j)|1⟩, Bloch angles: θ=135.00, φ=135.00\n",
      "Qiskit implementation: |ψ⟩ = [0.27059805-0.27059805j,0.        +0.92387953j]  \n",
      "\n",
      "State after Pauli Z gate:\n",
      "Own implementation: |ψ⟩ = (0.92+0.00j)|0⟩ + (-0.27-0.27j)|1⟩, Bloch angles: θ=45.00, φ=225.00\n",
      "Qiskit implementation: |ψ⟩ = [ 0.92387953+0.j        ,-0.27059805-0.27059805j]  \n",
      "\n",
      "State after Hadamard gate:\n",
      "Own implementation: |ψ⟩ = (0.84+0.19j)|0⟩ + (0.46-0.19j)|1⟩, Bloch angles: θ=60.00, φ=324.74\n",
      "Qiskit implementation: |ψ⟩ = [0.8446232 +0.19134172j,0.46193977-0.19134172j]  \n",
      "\n",
      "State after S gate gate:\n",
      "Own implementation: |ψ⟩ = (0.92+0.00j)|0⟩ + (-0.27+0.27j)|1⟩, Bloch angles: θ=45.00, φ=135.00\n",
      "Qiskit implementation: |ψ⟩ = [ 0.92387953+0.j        ,-0.27059805+0.27059805j]  \n",
      "\n"
     ]
    }
   ],
   "source": [
    "import sys\n",
    "\n",
    "import numpy as np\n",
    "from qiskit.quantum_info import Statevector, Pauli, Operator\n",
    "from qiskit.circuit.library import HGate, SGate\n",
    "\n",
    "sys.path.insert(0, \"../../src/python\")\n",
    "from qubit import Qubit\n",
    "\n",
    "# Bloch vectors\n",
    "theta = np.pi / 4\n",
    "phi = np.pi / 4\n",
    "\n",
    "qubit = Qubit(theta, phi)  # Own implementation\n",
    "qubit_qk = Statevector(qubit.state)  # Qiskit representation\n",
    "\n",
    "print(f\"\"\"Initial state:\n",
    "Own implementation: |ψ⟩ = {qubit.dump_state(decimals=2)}, Bloch angles: {qubit.bloch_str(2)}\n",
    "Qiskit implementation: |ψ⟩ = {qubit_qk.draw(\"text\")}\n",
    "\"\"\")\n",
    "\n",
    "gates = {\n",
    "  \"Pauli X\": (\"x_gate\", Pauli(\"X\")),\n",
    "  \"Pauli Y\": (\"y_gate\", Pauli(\"Y\")),\n",
    "  \"Pauli Z\": (\"z_gate\", Pauli(\"Z\")),\n",
    "  \"Hadamard\": (\"hadamard_gate\", Operator(HGate())),\n",
    "  \"S gate\": (\"s_gate\", Operator(SGate())),\n",
    "}\n",
    "\n",
    "for name, (method, qiskit_gate) in gates.items():\n",
    "  qubit_gate = Qubit(theta, phi)\n",
    "  qubit_gate.__getattribute__(method)()\n",
    "  qubit_qk_gate = qubit_qk.evolve(qiskit_gate)\n",
    "\n",
    "  print(f\"\"\"State after {name} gate:\n",
    "Own implementation: |ψ⟩ = {qubit_gate.dump_state(decimals=2)}, Bloch angles: {qubit_gate.bloch_str(2)}\n",
    "Qiskit implementation: |ψ⟩ = {qubit_qk_gate.draw(\"text\")}  \n",
    "\"\"\")"
   ]
  },
  {
   "cell_type": "markdown",
   "metadata": {},
   "source": [
    "##### Bell states"
   ]
  },
  {
   "cell_type": "code",
   "execution_count": null,
   "metadata": {},
   "outputs": [
    {
     "name": "stdout",
     "output_type": "stream",
     "text": [
      "Initial state:\n",
      "Own code:    (0.71+0.00j)|01⟩ + (0.71+0.00j)|10⟩\n",
      "Qiskit code: (0.71+0.00j)|01⟩ + (0.71+0.00j)|10⟩\n",
      "\n",
      "State after Hadamard and CNOT gates:\n",
      "Own code:    (0.50+0.00j)|00⟩ + (0.50+0.00j)|01⟩ + (0.50+0.00j)|10⟩ + (-0.50+0.00j)|11⟩\n",
      "Qiskit code: (0.50+0.00j)|00⟩ + (0.50+0.00j)|01⟩ + (0.50+0.00j)|10⟩ + (-0.50+0.00j)|11⟩\n",
      "\n"
     ]
    },
    {
     "data": {
      "image/jpeg": "[encoded data removed]",
      "image/png": "[encoded data removed]",
      "text/plain": [
       "<PIL.Image.Image image mode=RGB size=490x99>"
      ]
     },
     "metadata": {},
     "output_type": "display_data"
    },
    {
     "name": "stdout",
     "output_type": "stream",
     "text": [
      "Measurement counts:\n",
      "Own code:    {'00': 241, '01': 263, '10': 242, '11': 254}\n",
      "Qiskit code: {'00': 251, '01': 250, '10': 253, '11': 246}\n",
      "\n"
     ]
    },
    {
     "data": {
      "text/plain": [
       "Text(0.5, 1.0, 'Measurement result after 1000 shot')"
      ]
     },
     "execution_count": 25,
     "metadata": {},
     "output_type": "execute_result"
    },
    {
     "data": {
      "image/png": "[encoded data removed]",
      "text/plain": [
       "<Figure size 640x480 with 1 Axes>"
      ]
     },
     "metadata": {},
     "output_type": "display_data"
    }
   ],
   "source": [
    "import sys\n",
    "\n",
    "import numpy as np\n",
    "import matplotlib.pyplot as plt\n",
    "import qiskit_aer\n",
    "from qiskit import transpile\n",
    "from qiskit.quantum_info import Statevector, Operator, Pauli\n",
    "from qiskit.circuit.library import HGate, CXGate\n",
    "\n",
    "sys.path.insert(0, \"../../src/python\")\n",
    "from qubit import BELL_STATES, create_bell_state, bell_state_circuit, dump_qubit_state\n",
    "\n",
    "np.random.seed(42)\n",
    "\n",
    "shots = 1000\n",
    "\n",
    "# Initialize Bell state\n",
    "selected_state = 1\n",
    "bell_state = create_bell_state(selected_state)\n",
    "initial_state = bell_state.dump_state(2)\n",
    "\n",
    "# Apply Hadamard and CNOT gates\n",
    "bell_state.hadamard(1)\n",
    "bell_state.cnot(1, 0)\n",
    "end_state = bell_state.dump_state(2)\n",
    "\n",
    "# Measure qubit 0 and then qubit 1\n",
    "counts = bell_state.measure([0, 1], shots)\n",
    "\n",
    "# Compare state with qiskit implementation\n",
    "qk_bell_state = Statevector(BELL_STATES[selected_state])\n",
    "qk_initial_state = dump_qubit_state(qk_bell_state.data, 2)\n",
    "H = Operator(HGate())\n",
    "I = Operator(Pauli(\"I\"))  # Identity for qubit 1\n",
    "\n",
    "# Apply Hadamard to qubit 0 by tensoring: H ⊗ I\n",
    "H_0 = I.tensor(H)\n",
    "qk_bell_state = qk_bell_state.evolve(H_0)\n",
    "\n",
    "# Apply CNOT with control in qubit 0\n",
    "CNOT = Operator(CXGate())\n",
    "SWAPPED_CNOT = I.tensor(CNOT)\n",
    "qk_bell_state = qk_bell_state.evolve(CNOT)\n",
    "qk_end_state = dump_qubit_state(qk_bell_state, 2)\n",
    "\n",
    "# Print states\n",
    "print(f\"\"\"Initial state:\n",
    "Own code:    {initial_state}\n",
    "Qiskit code: {qk_initial_state}\n",
    "\"\"\")\n",
    "\n",
    "print(f\"\"\"State after Hadamard and CNOT gates:\n",
    "Own code:    {end_state}\n",
    "Qiskit code: {qk_end_state}\n",
    "\"\"\")\n",
    "\n",
    "# Qiskit measurement\n",
    "qc = bell_state_circuit(selected_state)\n",
    "qc.h(1)  # Apply Hadamard to qubit 0\n",
    "qc.cx(1, 0)  # Apply CNOT with control in qubit 0\n",
    "\n",
    "qc.measure([0, 1], [0, 1])\n",
    "\n",
    "simulator = qiskit_aer.Aer.get_backend(\"qasm_simulator\")\n",
    "qc_compiled = transpile(qc, simulator)\n",
    "result = simulator.run(qc_compiled, shots=shots).result()\n",
    "qk_counts = dict(sorted(result.get_counts(qc_compiled).items()))\n",
    "print(f\"\"\"Measurement counts:\n",
    "Own code:    {counts}\n",
    "Qiskit code: {qk_counts}\n",
    "\"\"\")\n",
    "\n",
    "# Plot results\n",
    "plt.bar(list(counts.keys()), list(counts.values()))\n",
    "plt.xlabel(\"Binary qubit state\")\n",
    "plt.ylabel(\"Count\")\n",
    "plt.title(f\"Measurement result after {shots} shot\")\n",
    "# plt.savefig(\"bell_state_measurement.pdf\", format=\"pdf\")"
   ]
  },
  {
   "cell_type": "code",
   "execution_count": null,
   "metadata": {},
   "outputs": [
    {
     "data": {
      "text/latex": [
       "$$\\left[\\begin{matrix}\\frac{\\sqrt{2}}{2} & \\frac{\\sqrt{2}}{2} & 0 & 0\\\\0 & 0 & \\frac{\\sqrt{2}}{2} & - \\frac{\\sqrt{2}}{2}\\\\0 & 0 & \\frac{\\sqrt{2}}{2} & \\frac{\\sqrt{2}}{2}\\\\\\frac{\\sqrt{2}}{2} & - \\frac{\\sqrt{2}}{2} & 0 & 0\\end{matrix}\\right]$$"
      ],
      "text/plain": [
       "<IPython.core.display.Latex object>"
      ]
     },
     "metadata": {},
     "output_type": "display_data"
    }
   ],
   "source": [
    "from IPython.display import Latex\n",
    "import sympy as sp\n",
    "\n",
    "\n",
    "def print_latex(string: str) -> None:\n",
    "  display(Latex(rf\"$${string}$$\"))\n",
    "\n",
    "\n",
    "H = sp.Matrix([[1, 1], [1, -1]]) / sp.sqrt(2)\n",
    "I = sp.Matrix([[1, 0], [0, 1]])\n",
    "\n",
    "IH = sp.Matrix([[1, 1, 0, 0], [1, -1, 0, 0], [0, 0, 1, 1], [0, 0, 1, -1]]) / sp.sqrt(2)\n",
    "CX = sp.Matrix([[1, 0, 0, 0], [0, 0, 0, 1], [0, 0, 1, 0], [0, 1, 0, 0]])\n",
    "\n",
    "A = CX * IH\n",
    "\n",
    "print_latex(sp.latex(A))"
   ]
  }
 ],
 "metadata": {
  "kernelspec": {
   "display_name": ".venv",
   "language": "python",
   "name": "python3"
  },
  "language_info": {
   "codemirror_mode": {
    "name": "ipython",
    "version": 3
   },
   "file_extension": ".py",
   "mimetype": "text/x-python",
   "name": "python",
   "nbconvert_exporter": "python",
   "pygments_lexer": "ipython3",
   "version": "3.13.2"
  }
 },
 "nbformat": 4,
 "nbformat_minor": 2
}
